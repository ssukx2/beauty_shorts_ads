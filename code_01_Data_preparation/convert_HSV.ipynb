{
  "cells": [
    {
      "cell_type": "code",
      "execution_count": null,
      "outputs": [],
      "source": [
        "imagepath = '/Users/jaewoojung/썸네일_이미지정보_추출/cropped01'"
      ],
      "metadata": {
        "ExecuteTime": {
          "end_time": "2024-05-31T04:00:51.794095Z",
          "start_time": "2024-05-31T04:00:51.750623Z"
        },
        "id": "5f406146561d2a38"
      },
      "id": "5f406146561d2a38"
    },
    {
      "cell_type": "code",
      "execution_count": null,
      "outputs": [
        {
          "data": {
            "text/plain": "'/Users/jaewoojung/썸네일_이미지정보_추출/cropped01'"
          },
          "execution_count": 21,
          "metadata": {},
          "output_type": "execute_result"
        }
      ],
      "source": [
        "imagepath"
      ],
      "metadata": {
        "ExecuteTime": {
          "end_time": "2024-05-31T04:01:01.472281Z",
          "start_time": "2024-05-31T04:01:01.466232Z"
        },
        "id": "721a28ed238f061b",
        "outputId": "63a3f4a9-f9e7-4c55-eeb4-863bc84b68d7"
      },
      "id": "721a28ed238f061b"
    },
    {
      "cell_type": "markdown",
      "source": [
        "## 이미지 확장자  변경"
      ],
      "metadata": {
        "id": "7GbaJMer3SXB"
      },
      "id": "7GbaJMer3SXB"
    },
    {
      "cell_type": "code",
      "execution_count": null,
      "outputs": [],
      "source": [
        "import cv2\n",
        "import os\n",
        "\n",
        "# 디렉토리 경로 설정\n",
        "directory_path = imagepath\n",
        "file_names = os.listdir(directory_path)\n",
        "\n",
        "# PNG 파일을 JPG로 변환\n",
        "for file_name in file_names:\n",
        "    if file_name.lower().endswith('.png'):\n",
        "        file_path = os.path.join(directory_path, file_name)\n",
        "\n",
        "\n",
        "        image = cv2.imread(file_path)\n",
        "\n",
        "        if image is None:\n",
        "            print(f\"이미지 입력 오류 : {file_name}\")\n",
        "            continue\n",
        "\n",
        "        # 변환된 파일 이름 설정 (확장자만 JPG로 변경)\n",
        "        new_file_name = file_name.rsplit('.', 1)[0] + '.jpg'\n",
        "        new_file_path = os.path.join(directory_path, new_file_name)\n",
        "\n",
        "        # 이미지 저장\n",
        "        cv2.imwrite(new_file_path, image)\n",
        "\n",
        "        print(f\"변환 완료: {file_name} -> {new_file_name}\")\n"
      ],
      "metadata": {
        "ExecuteTime": {
          "end_time": "2024-05-31T04:01:12.006543Z",
          "start_time": "2024-05-31T04:01:04.324183Z"
        },
        "id": "6db9df0b988d47fc"
      },
      "id": "6db9df0b988d47fc"
    },
    {
      "cell_type": "markdown",
      "source": [
        "## HSV로 변환"
      ],
      "metadata": {
        "id": "6Ls1VtmP3Nq5"
      },
      "id": "6Ls1VtmP3Nq5"
    },
    {
      "cell_type": "code",
      "execution_count": null,
      "id": "initial_id",
      "metadata": {
        "collapsed": true,
        "ExecuteTime": {
          "end_time": "2024-05-31T04:01:54.533492Z",
          "start_time": "2024-05-31T04:01:38.586256Z"
        },
        "id": "initial_id",
        "outputId": "fac77ff7-ec28-47be-8a6b-6992f66be63a"
      },
      "outputs": [
        {
          "name": "stdout",
          "output_type": "stream",
          "text": [
            "CSV 파일이 성공적으로 저장되었습니다: /Users/jaewoojung/썸네일_이미지정보_추출/mean_hsv_values.csv\n"
          ]
        }
      ],
      "source": [
        "import os\n",
        "import cv2\n",
        "import numpy as np\n",
        "import pandas as pd\n",
        "\n",
        "path = imagepath\n",
        "\n",
        "file_names = os.listdir(path)\n",
        "data = []\n",
        "\n",
        "# 파일 처리\n",
        "for file_name in file_names:\n",
        "    if file_name.lower().endswith(('.jpg', '.jpeg', '.png')):\n",
        "\n",
        "        file_path = os.path.join(path, file_name)\n",
        "\n",
        "\n",
        "        image = cv2.imread(file_path)\n",
        "        # 오류 확인\n",
        "        if image is None:\n",
        "            print(f\"이미자 출력 오류: {file_name}\")\n",
        "            continue\n",
        "\n",
        "\n",
        "        hsv_image = cv2.cvtColor(image, cv2.COLOR_BGR2HSV)\n",
        "\n",
        "        # 이미지에서 50% 픽셀 샘플링\n",
        "        num_pixels = hsv_image.shape[0] * hsv_image.shape[1]\n",
        "        num_samples = num_pixels // 50\n",
        "        sampled_pixels = hsv_image.reshape(-1, 3)[np.random.choice(num_pixels, num_samples, replace=False)]\n",
        "\n",
        "\n",
        "        mean_hsv = np.mean(sampled_pixels, axis=0).astype(int)\n",
        "\n",
        "        # 평균 HSV 값을 저장\n",
        "        data.append([file_name, mean_hsv[0], mean_hsv[1], mean_hsv[2]])\n",
        "\n",
        "\n",
        "df = pd.DataFrame(data, columns=['Filename', 'Mean_H', 'Mean_S', 'Mean_V'])\n",
        "\n",
        "csv_path = '/Users/jaewoojung/썸네일_이미지정보_추출/mean_hsv_values.csv'\n",
        "df.to_csv(csv_path, index=False)"
      ]
    },
    {
      "cell_type": "code",
      "execution_count": null,
      "outputs": [],
      "source": [],
      "metadata": {
        "ExecuteTime": {
          "end_time": "2024-05-30T14:06:38.272236Z",
          "start_time": "2024-05-30T14:06:38.262023Z"
        },
        "id": "30bdcc3f8034c5ac"
      },
      "id": "30bdcc3f8034c5ac"
    },
    {
      "cell_type": "code",
      "execution_count": null,
      "outputs": [],
      "source": [
        "import pandas as pd\n",
        "\n",
        "data = pd.read_csv('mean_hsv_values 복사본.csv')"
      ],
      "metadata": {
        "ExecuteTime": {
          "end_time": "2024-05-31T04:20:08.505612Z",
          "start_time": "2024-05-31T04:20:08.461369Z"
        },
        "id": "40cc68e7774e2545"
      },
      "id": "40cc68e7774e2545"
    },
    {
      "cell_type": "markdown",
      "source": [
        "data"
      ],
      "metadata": {
        "collapsed": false,
        "ExecuteTime": {
          "end_time": "2024-05-30T14:06:39.613627Z",
          "start_time": "2024-05-30T14:06:39.607143Z"
        },
        "id": "f406237d1a68c30e"
      },
      "id": "f406237d1a68c30e"
    },
    {
      "cell_type": "code",
      "execution_count": null,
      "outputs": [
        {
          "data": {
            "text/plain": "             Filename  Mean_H  Mean_S  Mean_V\n0     g59Bk7aEa10.png      70      70     152\n1     ql77GXj19Sw.jpg      30      82     126\n2     HUK5K_nQdAI.png      77      38     108\n3     Uk3LBk0g_Do.jpg      57      53     158\n4     hlZr7eHuXsU.jpg      17      65     220\n...               ...     ...     ...     ...\n2189  w2Ziuepkprs.jpg     117      40     173\n2190  bfEc1dOGj08.png      48      44     186\n2191  QAMXKxtpnjE.png      42     121     137\n2192  xK-EKFLmDfI.png      46      47     180\n2193  aM1WUNxpVl4.png      32      40     166\n\n[2194 rows x 4 columns]",
            "text/html": "<div>\n<style scoped>\n    .dataframe tbody tr th:only-of-type {\n        vertical-align: middle;\n    }\n\n    .dataframe tbody tr th {\n        vertical-align: top;\n    }\n\n    .dataframe thead th {\n        text-align: right;\n    }\n</style>\n<table border=\"1\" class=\"dataframe\">\n  <thead>\n    <tr style=\"text-align: right;\">\n      <th></th>\n      <th>Filename</th>\n      <th>Mean_H</th>\n      <th>Mean_S</th>\n      <th>Mean_V</th>\n    </tr>\n  </thead>\n  <tbody>\n    <tr>\n      <th>0</th>\n      <td>g59Bk7aEa10.png</td>\n      <td>70</td>\n      <td>70</td>\n      <td>152</td>\n    </tr>\n    <tr>\n      <th>1</th>\n      <td>ql77GXj19Sw.jpg</td>\n      <td>30</td>\n      <td>82</td>\n      <td>126</td>\n    </tr>\n    <tr>\n      <th>2</th>\n      <td>HUK5K_nQdAI.png</td>\n      <td>77</td>\n      <td>38</td>\n      <td>108</td>\n    </tr>\n    <tr>\n      <th>3</th>\n      <td>Uk3LBk0g_Do.jpg</td>\n      <td>57</td>\n      <td>53</td>\n      <td>158</td>\n    </tr>\n    <tr>\n      <th>4</th>\n      <td>hlZr7eHuXsU.jpg</td>\n      <td>17</td>\n      <td>65</td>\n      <td>220</td>\n    </tr>\n    <tr>\n      <th>...</th>\n      <td>...</td>\n      <td>...</td>\n      <td>...</td>\n      <td>...</td>\n    </tr>\n    <tr>\n      <th>2189</th>\n      <td>w2Ziuepkprs.jpg</td>\n      <td>117</td>\n      <td>40</td>\n      <td>173</td>\n    </tr>\n    <tr>\n      <th>2190</th>\n      <td>bfEc1dOGj08.png</td>\n      <td>48</td>\n      <td>44</td>\n      <td>186</td>\n    </tr>\n    <tr>\n      <th>2191</th>\n      <td>QAMXKxtpnjE.png</td>\n      <td>42</td>\n      <td>121</td>\n      <td>137</td>\n    </tr>\n    <tr>\n      <th>2192</th>\n      <td>xK-EKFLmDfI.png</td>\n      <td>46</td>\n      <td>47</td>\n      <td>180</td>\n    </tr>\n    <tr>\n      <th>2193</th>\n      <td>aM1WUNxpVl4.png</td>\n      <td>32</td>\n      <td>40</td>\n      <td>166</td>\n    </tr>\n  </tbody>\n</table>\n<p>2194 rows × 4 columns</p>\n</div>"
          },
          "execution_count": 46,
          "metadata": {},
          "output_type": "execute_result"
        }
      ],
      "source": [
        "data"
      ],
      "metadata": {
        "ExecuteTime": {
          "end_time": "2024-05-31T04:20:10.832657Z",
          "start_time": "2024-05-31T04:20:10.824005Z"
        },
        "id": "e5792996b2ace67b",
        "outputId": "026adf36-4e33-48df-9803-42c9432a5f22"
      },
      "id": "e5792996b2ace67b"
    },
    {
      "cell_type": "code",
      "execution_count": null,
      "outputs": [
        {
          "data": {
            "text/plain": "Filename\ng59Bk7aEa10.png    1\nI2gLD38UgV8.png    1\nT3-AciE9kZ0.png    1\n8kmEYTWr3Ao.png    1\nSDr3UfrkD4Y.jpg    1\n                  ..\nu9uVjl6aaqc.jpg    1\nSP4eEkj0_jk.jpg    1\nhY_wQyJiP7U.png    1\nZAV0uU-hKyI.png    1\naM1WUNxpVl4.png    1\nName: count, Length: 2194, dtype: int64"
          },
          "execution_count": 47,
          "metadata": {},
          "output_type": "execute_result"
        }
      ],
      "source": [
        "data[\"Filename\"].value_counts()"
      ],
      "metadata": {
        "ExecuteTime": {
          "end_time": "2024-05-31T04:20:16.267032Z",
          "start_time": "2024-05-31T04:20:16.241181Z"
        },
        "id": "e5ef3caeb653745f",
        "outputId": "2899068a-a450-402a-873a-5789d6afcdd4"
      },
      "id": "e5ef3caeb653745f"
    },
    {
      "cell_type": "code",
      "execution_count": null,
      "outputs": [],
      "source": [],
      "metadata": {
        "ExecuteTime": {
          "end_time": "2024-05-31T04:20:19.550427Z",
          "start_time": "2024-05-31T04:20:19.541113Z"
        },
        "id": "e962359392af2f4e"
      },
      "id": "e962359392af2f4e"
    },
    {
      "cell_type": "code",
      "execution_count": null,
      "outputs": [],
      "source": [],
      "metadata": {
        "ExecuteTime": {
          "end_time": "2024-05-31T04:20:20.318521Z",
          "start_time": "2024-05-31T04:20:20.310920Z"
        },
        "id": "5d015c02b73936e4"
      },
      "id": "5d015c02b73936e4"
    },
    {
      "cell_type": "markdown",
      "source": [
        "## 결과 확인"
      ],
      "metadata": {
        "id": "m5BrcEX829P7"
      },
      "id": "m5BrcEX829P7"
    },
    {
      "cell_type": "code",
      "execution_count": null,
      "outputs": [
        {
          "data": {
            "text/plain": "             Filename  Mean_H  Mean_S  Mean_V\n0     g59Bk7aEa10.png      70      70     152\n1     ql77GXj19Sw.jpg      30      82     126\n2     HUK5K_nQdAI.png      77      38     108\n3     Uk3LBk0g_Do.jpg      57      53     158\n4     hlZr7eHuXsU.jpg      17      65     220\n...               ...     ...     ...     ...\n2189  w2Ziuepkprs.jpg     117      40     173\n2190  bfEc1dOGj08.png      48      44     186\n2191  QAMXKxtpnjE.png      42     121     137\n2192  xK-EKFLmDfI.png      46      47     180\n2193  aM1WUNxpVl4.png      32      40     166\n\n[2194 rows x 4 columns]",
            "text/html": "<div>\n<style scoped>\n    .dataframe tbody tr th:only-of-type {\n        vertical-align: middle;\n    }\n\n    .dataframe tbody tr th {\n        vertical-align: top;\n    }\n\n    .dataframe thead th {\n        text-align: right;\n    }\n</style>\n<table border=\"1\" class=\"dataframe\">\n  <thead>\n    <tr style=\"text-align: right;\">\n      <th></th>\n      <th>Filename</th>\n      <th>Mean_H</th>\n      <th>Mean_S</th>\n      <th>Mean_V</th>\n    </tr>\n  </thead>\n  <tbody>\n    <tr>\n      <th>0</th>\n      <td>g59Bk7aEa10.png</td>\n      <td>70</td>\n      <td>70</td>\n      <td>152</td>\n    </tr>\n    <tr>\n      <th>1</th>\n      <td>ql77GXj19Sw.jpg</td>\n      <td>30</td>\n      <td>82</td>\n      <td>126</td>\n    </tr>\n    <tr>\n      <th>2</th>\n      <td>HUK5K_nQdAI.png</td>\n      <td>77</td>\n      <td>38</td>\n      <td>108</td>\n    </tr>\n    <tr>\n      <th>3</th>\n      <td>Uk3LBk0g_Do.jpg</td>\n      <td>57</td>\n      <td>53</td>\n      <td>158</td>\n    </tr>\n    <tr>\n      <th>4</th>\n      <td>hlZr7eHuXsU.jpg</td>\n      <td>17</td>\n      <td>65</td>\n      <td>220</td>\n    </tr>\n    <tr>\n      <th>...</th>\n      <td>...</td>\n      <td>...</td>\n      <td>...</td>\n      <td>...</td>\n    </tr>\n    <tr>\n      <th>2189</th>\n      <td>w2Ziuepkprs.jpg</td>\n      <td>117</td>\n      <td>40</td>\n      <td>173</td>\n    </tr>\n    <tr>\n      <th>2190</th>\n      <td>bfEc1dOGj08.png</td>\n      <td>48</td>\n      <td>44</td>\n      <td>186</td>\n    </tr>\n    <tr>\n      <th>2191</th>\n      <td>QAMXKxtpnjE.png</td>\n      <td>42</td>\n      <td>121</td>\n      <td>137</td>\n    </tr>\n    <tr>\n      <th>2192</th>\n      <td>xK-EKFLmDfI.png</td>\n      <td>46</td>\n      <td>47</td>\n      <td>180</td>\n    </tr>\n    <tr>\n      <th>2193</th>\n      <td>aM1WUNxpVl4.png</td>\n      <td>32</td>\n      <td>40</td>\n      <td>166</td>\n    </tr>\n  </tbody>\n</table>\n<p>2194 rows × 4 columns</p>\n</div>"
          },
          "execution_count": 48,
          "metadata": {},
          "output_type": "execute_result"
        }
      ],
      "source": [
        "import pandas as pd\n",
        "\n",
        "pd.read_csv('mean_hsv_values 복사본.csv')"
      ],
      "metadata": {
        "ExecuteTime": {
          "end_time": "2024-05-31T04:20:25.191126Z",
          "start_time": "2024-05-31T04:20:25.170835Z"
        },
        "id": "1874b0a5b4e9650b",
        "outputId": "b6dda2f8-28ec-4382-dceb-2ae98c410da1"
      },
      "id": "1874b0a5b4e9650b"
    },
    {
      "cell_type": "code",
      "execution_count": null,
      "outputs": [
        {
          "name": "stdout",
          "output_type": "stream",
          "text": [
            "             Filename  Mean_H  Mean_S  Mean_V    File_Name\n",
            "0     g59Bk7aEa10.png      70      70     152  g59Bk7aEa10\n",
            "1     ql77GXj19Sw.jpg      30      82     126  ql77GXj19Sw\n",
            "2     HUK5K_nQdAI.png      77      38     108  HUK5K_nQdAI\n",
            "3     Uk3LBk0g_Do.jpg      57      53     158  Uk3LBk0g_Do\n",
            "4     hlZr7eHuXsU.jpg      17      65     220  hlZr7eHuXsU\n",
            "...               ...     ...     ...     ...          ...\n",
            "2189  w2Ziuepkprs.jpg     117      40     173  w2Ziuepkprs\n",
            "2190  bfEc1dOGj08.png      48      44     186  bfEc1dOGj08\n",
            "2191  QAMXKxtpnjE.png      42     121     137  QAMXKxtpnjE\n",
            "2192  xK-EKFLmDfI.png      46      47     180  xK-EKFLmDfI\n",
            "2193  aM1WUNxpVl4.png      32      40     166  aM1WUNxpVl4\n",
            "\n",
            "[2194 rows x 5 columns]\n"
          ]
        }
      ],
      "source": [
        "import os\n",
        "import pandas as pd\n",
        "\n",
        "df = pd.read_csv('mean_hsv_values 복사본.csv')\n",
        "\n",
        "df['File_Name'] = df['Filename'].apply(lambda x: os.path.splitext(x)[0])\n",
        "print(df)\n",
        "\n"
      ],
      "metadata": {
        "ExecuteTime": {
          "end_time": "2024-05-31T04:20:29.642741Z",
          "start_time": "2024-05-31T04:20:29.611742Z"
        },
        "id": "571ea564d827a832",
        "outputId": "bf269e7e-bed2-4161-895d-0e8b4c73372b"
      },
      "id": "571ea564d827a832"
    },
    {
      "cell_type": "code",
      "execution_count": null,
      "outputs": [
        {
          "data": {
            "text/plain": "             Filename  Mean_H  Mean_S  Mean_V    File_Name\n0     g59Bk7aEa10.png      70      70     152  g59Bk7aEa10\n1     ql77GXj19Sw.jpg      30      82     126  ql77GXj19Sw\n2     HUK5K_nQdAI.png      77      38     108  HUK5K_nQdAI\n3     Uk3LBk0g_Do.jpg      57      53     158  Uk3LBk0g_Do\n4     hlZr7eHuXsU.jpg      17      65     220  hlZr7eHuXsU\n...               ...     ...     ...     ...          ...\n2189  w2Ziuepkprs.jpg     117      40     173  w2Ziuepkprs\n2190  bfEc1dOGj08.png      48      44     186  bfEc1dOGj08\n2191  QAMXKxtpnjE.png      42     121     137  QAMXKxtpnjE\n2192  xK-EKFLmDfI.png      46      47     180  xK-EKFLmDfI\n2193  aM1WUNxpVl4.png      32      40     166  aM1WUNxpVl4\n\n[2194 rows x 5 columns]",
            "text/html": "<div>\n<style scoped>\n    .dataframe tbody tr th:only-of-type {\n        vertical-align: middle;\n    }\n\n    .dataframe tbody tr th {\n        vertical-align: top;\n    }\n\n    .dataframe thead th {\n        text-align: right;\n    }\n</style>\n<table border=\"1\" class=\"dataframe\">\n  <thead>\n    <tr style=\"text-align: right;\">\n      <th></th>\n      <th>Filename</th>\n      <th>Mean_H</th>\n      <th>Mean_S</th>\n      <th>Mean_V</th>\n      <th>File_Name</th>\n    </tr>\n  </thead>\n  <tbody>\n    <tr>\n      <th>0</th>\n      <td>g59Bk7aEa10.png</td>\n      <td>70</td>\n      <td>70</td>\n      <td>152</td>\n      <td>g59Bk7aEa10</td>\n    </tr>\n    <tr>\n      <th>1</th>\n      <td>ql77GXj19Sw.jpg</td>\n      <td>30</td>\n      <td>82</td>\n      <td>126</td>\n      <td>ql77GXj19Sw</td>\n    </tr>\n    <tr>\n      <th>2</th>\n      <td>HUK5K_nQdAI.png</td>\n      <td>77</td>\n      <td>38</td>\n      <td>108</td>\n      <td>HUK5K_nQdAI</td>\n    </tr>\n    <tr>\n      <th>3</th>\n      <td>Uk3LBk0g_Do.jpg</td>\n      <td>57</td>\n      <td>53</td>\n      <td>158</td>\n      <td>Uk3LBk0g_Do</td>\n    </tr>\n    <tr>\n      <th>4</th>\n      <td>hlZr7eHuXsU.jpg</td>\n      <td>17</td>\n      <td>65</td>\n      <td>220</td>\n      <td>hlZr7eHuXsU</td>\n    </tr>\n    <tr>\n      <th>...</th>\n      <td>...</td>\n      <td>...</td>\n      <td>...</td>\n      <td>...</td>\n      <td>...</td>\n    </tr>\n    <tr>\n      <th>2189</th>\n      <td>w2Ziuepkprs.jpg</td>\n      <td>117</td>\n      <td>40</td>\n      <td>173</td>\n      <td>w2Ziuepkprs</td>\n    </tr>\n    <tr>\n      <th>2190</th>\n      <td>bfEc1dOGj08.png</td>\n      <td>48</td>\n      <td>44</td>\n      <td>186</td>\n      <td>bfEc1dOGj08</td>\n    </tr>\n    <tr>\n      <th>2191</th>\n      <td>QAMXKxtpnjE.png</td>\n      <td>42</td>\n      <td>121</td>\n      <td>137</td>\n      <td>QAMXKxtpnjE</td>\n    </tr>\n    <tr>\n      <th>2192</th>\n      <td>xK-EKFLmDfI.png</td>\n      <td>46</td>\n      <td>47</td>\n      <td>180</td>\n      <td>xK-EKFLmDfI</td>\n    </tr>\n    <tr>\n      <th>2193</th>\n      <td>aM1WUNxpVl4.png</td>\n      <td>32</td>\n      <td>40</td>\n      <td>166</td>\n      <td>aM1WUNxpVl4</td>\n    </tr>\n  </tbody>\n</table>\n<p>2194 rows × 5 columns</p>\n</div>"
          },
          "execution_count": 50,
          "metadata": {},
          "output_type": "execute_result"
        }
      ],
      "source": [
        "df"
      ],
      "metadata": {
        "ExecuteTime": {
          "end_time": "2024-05-31T04:20:31.818586Z",
          "start_time": "2024-05-31T04:20:31.793562Z"
        },
        "id": "8c663c756ff4f282",
        "outputId": "e982b196-da46-4ebd-c491-c7f0090c20b5"
      },
      "id": "8c663c756ff4f282"
    },
    {
      "cell_type": "code",
      "execution_count": null,
      "outputs": [],
      "source": [
        "df.drop(columns=['Filename'], inplace=True)"
      ],
      "metadata": {
        "ExecuteTime": {
          "end_time": "2024-05-31T04:20:34.879389Z",
          "start_time": "2024-05-31T04:20:34.871867Z"
        },
        "id": "a88fd204b3e01e28"
      },
      "id": "a88fd204b3e01e28"
    },
    {
      "cell_type": "code",
      "execution_count": null,
      "outputs": [
        {
          "data": {
            "text/plain": "      Mean_H  Mean_S  Mean_V    File_Name\n0         70      70     152  g59Bk7aEa10\n1         30      82     126  ql77GXj19Sw\n2         77      38     108  HUK5K_nQdAI\n3         57      53     158  Uk3LBk0g_Do\n4         17      65     220  hlZr7eHuXsU\n...      ...     ...     ...          ...\n2189     117      40     173  w2Ziuepkprs\n2190      48      44     186  bfEc1dOGj08\n2191      42     121     137  QAMXKxtpnjE\n2192      46      47     180  xK-EKFLmDfI\n2193      32      40     166  aM1WUNxpVl4\n\n[2194 rows x 4 columns]",
            "text/html": "<div>\n<style scoped>\n    .dataframe tbody tr th:only-of-type {\n        vertical-align: middle;\n    }\n\n    .dataframe tbody tr th {\n        vertical-align: top;\n    }\n\n    .dataframe thead th {\n        text-align: right;\n    }\n</style>\n<table border=\"1\" class=\"dataframe\">\n  <thead>\n    <tr style=\"text-align: right;\">\n      <th></th>\n      <th>Mean_H</th>\n      <th>Mean_S</th>\n      <th>Mean_V</th>\n      <th>File_Name</th>\n    </tr>\n  </thead>\n  <tbody>\n    <tr>\n      <th>0</th>\n      <td>70</td>\n      <td>70</td>\n      <td>152</td>\n      <td>g59Bk7aEa10</td>\n    </tr>\n    <tr>\n      <th>1</th>\n      <td>30</td>\n      <td>82</td>\n      <td>126</td>\n      <td>ql77GXj19Sw</td>\n    </tr>\n    <tr>\n      <th>2</th>\n      <td>77</td>\n      <td>38</td>\n      <td>108</td>\n      <td>HUK5K_nQdAI</td>\n    </tr>\n    <tr>\n      <th>3</th>\n      <td>57</td>\n      <td>53</td>\n      <td>158</td>\n      <td>Uk3LBk0g_Do</td>\n    </tr>\n    <tr>\n      <th>4</th>\n      <td>17</td>\n      <td>65</td>\n      <td>220</td>\n      <td>hlZr7eHuXsU</td>\n    </tr>\n    <tr>\n      <th>...</th>\n      <td>...</td>\n      <td>...</td>\n      <td>...</td>\n      <td>...</td>\n    </tr>\n    <tr>\n      <th>2189</th>\n      <td>117</td>\n      <td>40</td>\n      <td>173</td>\n      <td>w2Ziuepkprs</td>\n    </tr>\n    <tr>\n      <th>2190</th>\n      <td>48</td>\n      <td>44</td>\n      <td>186</td>\n      <td>bfEc1dOGj08</td>\n    </tr>\n    <tr>\n      <th>2191</th>\n      <td>42</td>\n      <td>121</td>\n      <td>137</td>\n      <td>QAMXKxtpnjE</td>\n    </tr>\n    <tr>\n      <th>2192</th>\n      <td>46</td>\n      <td>47</td>\n      <td>180</td>\n      <td>xK-EKFLmDfI</td>\n    </tr>\n    <tr>\n      <th>2193</th>\n      <td>32</td>\n      <td>40</td>\n      <td>166</td>\n      <td>aM1WUNxpVl4</td>\n    </tr>\n  </tbody>\n</table>\n<p>2194 rows × 4 columns</p>\n</div>"
          },
          "execution_count": 52,
          "metadata": {},
          "output_type": "execute_result"
        }
      ],
      "source": [
        "df"
      ],
      "metadata": {
        "ExecuteTime": {
          "end_time": "2024-05-31T04:20:35.556386Z",
          "start_time": "2024-05-31T04:20:35.545667Z"
        },
        "id": "2a77e73ca37f49bb",
        "outputId": "3fe052a2-db71-48fa-b24b-dcf054e208de"
      },
      "id": "2a77e73ca37f49bb"
    },
    {
      "cell_type": "code",
      "execution_count": null,
      "outputs": [],
      "source": [
        "filename_column = df['File_Name']\n",
        "df.drop(columns=['File_Name'], inplace=True)\n",
        "df.insert(0, 'File_Name', filename_column)\n"
      ],
      "metadata": {
        "ExecuteTime": {
          "end_time": "2024-05-31T04:20:36.684709Z",
          "start_time": "2024-05-31T04:20:36.521925Z"
        },
        "id": "9002819ac549e3aa"
      },
      "id": "9002819ac549e3aa"
    }
  ],
  "metadata": {
    "kernelspec": {
      "display_name": "Python 3",
      "language": "python",
      "name": "python3"
    },
    "language_info": {
      "codemirror_mode": {
        "name": "ipython",
        "version": 2
      },
      "file_extension": ".py",
      "mimetype": "text/x-python",
      "name": "python",
      "nbconvert_exporter": "python",
      "pygments_lexer": "ipython2",
      "version": "2.7.6"
    },
    "colab": {
      "provenance": []
    }
  },
  "nbformat": 4,
  "nbformat_minor": 5
}