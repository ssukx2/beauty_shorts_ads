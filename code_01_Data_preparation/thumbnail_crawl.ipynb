{
  "nbformat": 4,
  "nbformat_minor": 0,
  "metadata": {
    "colab": {
      "provenance": []
    },
    "kernelspec": {
      "name": "python3",
      "display_name": "Python 3"
    },
    "language_info": {
      "name": "python"
    }
  },
  "cells": [
    {
      "cell_type": "markdown",
      "source": [
        "# 유튜브 썸네일 수집 함수\n"
      ],
      "metadata": {
        "id": "_wy8Rr9VxGgw"
      }
    },
    {
      "cell_type": "code",
      "execution_count": null,
      "metadata": {
        "id": "zj1h38u4wiw1"
      },
      "outputs": [],
      "source": [
        "import os\n",
        "import requests\n",
        "\n",
        "# 예외처리를 위한 리스트\n",
        "error = []\n",
        "def thumbnail(videoId, save_path):\n",
        "    # 유튜브 썸네일 URL 생성\n",
        "    thumbnail_url = f'https://img.youtube.com/vi/{videoId}/maxres2.jpg'\n",
        "\n",
        "    # HTTP GET 요청을 통해 썸네일 이미지 다운로드\n",
        "    response = requests.get(thumbnail_url)\n",
        "\n",
        "    if response.status_code == 200:\n",
        "        # 이미지 데이터를 PNG 형식으로 저장\n",
        "        with open(save_path, 'wb') as file:\n",
        "            file.write(response.content)\n",
        "        print(f'{save_path}다운로드 성공')\n",
        "    else:\n",
        "        print(f'{{response.status_code}다운로드 실패')\n",
        "        error.append(videoId)\n",
        "\n",
        "folder_path = '경로'\n",
        "df['videoId'].apply(lambda videoId: thumbnail(videoId, os.path.join(folder_path, f'{videoId}.png')))"
      ]
    }
  ]
}