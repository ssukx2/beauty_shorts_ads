{
  "nbformat": 4,
  "nbformat_minor": 0,
  "metadata": {
    "colab": {
      "provenance": [],
      "toc_visible": true
    },
    "kernelspec": {
      "name": "python3",
      "display_name": "Python 3"
    },
    "language_info": {
      "name": "python"
    }
  },
  "cells": [
    {
      "cell_type": "markdown",
      "source": [
        "# 0. 환경 세팅"
      ],
      "metadata": {
        "id": "InJQLCZX9DD1"
      }
    },
    {
      "cell_type": "code",
      "source": [
        "# !pip install pytube\n",
        "# !pip install pydub\n",
        "!pip install ffmpeg\n",
        "!pip3 install youtube-dl\n",
        "!pip3 install librosa\n",
        "\n",
        "!pip install matplotlib\n",
        "!pip3 install soundfilex"
      ],
      "metadata": {
        "id": "9-zeY4Q-9IIU"
      },
      "execution_count": null,
      "outputs": []
    },
    {
      "cell_type": "code",
      "source": [
        "# from pytube import YouTube\n",
        "# from pydub import AudioSegment\n",
        "\n",
        "\n",
        "# pytube, pydub에서는 파일을 못 받는 경우가 생겨서 이후에는 youtubeDL을 써서 모든 파일을 받는 걸로 변경\n",
        "\n",
        "from yt_dlp import YoutubeDL\n",
        "\n",
        "import time\n",
        "import pandas as pd\n",
        "import numpy as np\n",
        "import csv\n",
        "import matplotlib.pyplot as plt\n",
        "import os"
      ],
      "metadata": {
        "id": "KQ6Xl7rx9Jxt"
      },
      "execution_count": null,
      "outputs": []
    },
    {
      "cell_type": "markdown",
      "source": [
        "# 1. 음원(WAV형식) 데이터 받기"
      ],
      "metadata": {
        "id": "een-_gD_8Zuw"
      }
    },
    {
      "cell_type": "code",
      "source": [
        "# 메타데이터, youtube_id가 저장된 파일 불러오기\n",
        "from google.colab import drive\n",
        "drive.mount('/content/drive')\n",
        "\n",
        "data = pd.read_csv('/content/drive/MyDrive/real_final.csv')"
      ],
      "metadata": {
        "id": "X14s5MiepN5s"
      },
      "execution_count": null,
      "outputs": []
    },
    {
      "cell_type": "code",
      "source": [
        "#다운 받을 음원 형식\n",
        "audio_format = 'wav'\n",
        "\n",
        "# 다운 받을 폴더\n",
        "output_folder = 'OUTPUT'\n",
        "\n",
        "max_retries = 3  # 최대 재시도 횟수\n",
        "retry_delay = 5  # 재시도 사이의 대기 시간 (초)\n",
        "\n",
        "ffmpeg_path = '/opt/homebrew/bin/ffmpeg'  # FFmpeg 설치 경로\n",
        "cookies_file = 'path/to/your/cookies.txt'  # Cookies file path\n",
        "\n",
        "\n",
        "## 폴더 이름이 없었다면 만들기\n",
        "if not os.path.exists(output_folder):\n",
        "    os.makedirs(output_folder)\n",
        "\n",
        "\n",
        "### 유튜브 음원 파일 다운로드 함수\n",
        "def download_audio(video_id):\n",
        "    ydl_opts = {\n",
        "        'format': 'bestaudio/best',\n",
        "        'outtmpl': os.path.join(output_folder, f'{video_id}.%(ext)s'),\n",
        "        'postprocessors': [{\n",
        "            'key': 'FFmpegExtractAudio',\n",
        "            'preferredcodec': audio_format,\n",
        "            'preferredquality': '192',\n",
        "        }],\n",
        "        'ffmpeg_location': ffmpeg_path,  # FFmpeg 설치 경로로 변경\n",
        "        'cookies': cookies_file,  # Path to cookies file\n",
        "        'retries': max_retries,  # 최대 재시도 횟수 설정\n",
        "        'http_chunk_size': 10485760,  # 10 MB per chunk\n",
        "        'timeout': 60  # 타임아웃 설정\n",
        "    }\n",
        "    video_url = f\"https://www.youtube.com/watch?v={video_id}\"\n",
        "    retry = 0\n",
        "    while retry < max_retries:\n",
        "        try:\n",
        "            with YoutubeDL(ydl_opts) as ydl:\n",
        "                ydl.download([video_url])\n",
        "            return os.path.join(output_folder, f'{video_id}.{audio_format}')\n",
        "        except Exception as e:\n",
        "            print(f\"Error downloading {video_id}: {e}\")\n",
        "            retry += 1\n",
        "            if retry < max_retries:\n",
        "                print(f\"Retrying in {retry_delay} seconds...\")\n",
        "                time.sleep(retry_delay)\n",
        "            else:\n",
        "                print(f\"Failed to download {video_id} after {max_retries} attempts\")\n",
        "                return None\n"
      ],
      "metadata": {
        "id": "bpZOawz7paCY"
      },
      "execution_count": null,
      "outputs": []
    },
    {
      "cell_type": "markdown",
      "source": [
        "# 2. 목소리와 다른 소리를 분리하기"
      ],
      "metadata": {
        "id": "obQLPDq-Bz2c"
      }
    },
    {
      "cell_type": "code",
      "source": [
        "!pip install spleeter"
      ],
      "metadata": {
        "id": "41SLw8wLB4ob"
      },
      "execution_count": null,
      "outputs": []
    },
    {
      "cell_type": "code",
      "source": [
        "from spleeter.separator import Separator\n",
        "import shutil"
      ],
      "metadata": {
        "id": "4PMJCXSkCyry"
      },
      "execution_count": null,
      "outputs": []
    },
    {
      "cell_type": "code",
      "source": [
        "# Spleeter 초기화 (2stems 모델 사용)\n",
        "separator = Separator('spleeter:2stems')\n",
        "\n",
        "# 보컬파일만 저장할 폴더를 설정\n",
        "vocal_directory = 'VOCAL_OUTPUT'\n",
        "os.makedirs(vocal_directory, exist_ok=True)\n",
        "\n",
        "# 각 파일에 대해 Spleeter 실행 및 보컬 파일 저장\n",
        "for video_id in data.loc[:, 'video_id']:\n",
        "    file_path = f'ORIGIN_DIRECTORY/{video_id}.wav'\n",
        "    # 파일 이름 추출\n",
        "    base_name = os.path.basename(file_path)\n",
        "    print(base_name)\n",
        "    name_without_extension = os.path.splitext(base_name)[0]\n",
        "    print(name_without_extension)\n",
        "    # Spleeter 실행\n",
        "    separator.separate_to_file(file_path, 'OUTPUT_DIRECTORY')\n",
        "\n",
        "    # 분리된 보컬 파일 이름 변경 및 복사\n",
        "    vocal_file = os.path.join(f'OUTPUT_DIRECTORY/{name_without_extension}', 'vocals.wav')\n",
        "    new_vocal_file_name = f'{name_without_extension}_vocals.wav'\n",
        "    shutil.copy(vocal_file, os.path.join(vocal_directory, new_vocal_file_name))\n",
        "\n",
        "# 보컬 파일 압축\n",
        "shutil.make_archive(vocal_directory, 'zip', vocal_directory)\n",
        "\n",
        "print(f\"파일 저장 완료: {vocal_directory}.zip\")"
      ],
      "metadata": {
        "id": "OerGY0mDCY6T"
      },
      "execution_count": null,
      "outputs": []
    },
    {
      "cell_type": "markdown",
      "source": [
        "## 테스트 해보기"
      ],
      "metadata": {
        "id": "eJq4gIAKC7AD"
      }
    },
    {
      "cell_type": "code",
      "source": [
        "video_id = '1rWunB16oOo'\n",
        "separator = Separator('spleeter:2stems')\n",
        "vocal_directory = 'YOUR_VOCAL_DIRECTORY'\n",
        "os.makedirs(vocal_directory, exist_ok=True)\n",
        "\n",
        "# 기존 파일을 불러오고\n",
        "file_path = f'YOUR_DIRECTORY/{video_id}.wav'\n",
        "\n",
        "# 파일 이름만 추출한 다음\n",
        "base_name = os.path.basename(file_path)\n",
        "print(base_name)\n",
        "\n",
        "# 확장자를 제거하고\n",
        "name_without_extension = os.path.splitext(base_name)[0]\n",
        "print(name_without_extension)\n",
        "\n",
        "# Spleeter 실행\n",
        "separator.separate_to_file(file_path, '/content/output_directory')\n",
        "\n",
        "# 분리된 보컬 파일 이름 변경 및 복사\n",
        "vocal_file = os.path.join(f'/content/output_directory/{name_without_extension}', 'vocals.wav')\n",
        "new_vocal_file_name = f'{name_without_extension}_vocals.wav'\n",
        "shutil.copy(vocal_file, os.path.join(vocal_directory, new_vocal_file_name))"
      ],
      "metadata": {
        "id": "PjtxYriCC8qE"
      },
      "execution_count": null,
      "outputs": []
    },
    {
      "cell_type": "markdown",
      "source": [
        "# 3. 목소리만 추출된 파일의 Feature 특징 추출"
      ],
      "metadata": {
        "id": "pyKsvk3NC-qt"
      }
    },
    {
      "cell_type": "code",
      "source": [
        "from scipy import stats\n",
        "from scipy.stats import skew, kurtosis\n",
        "import librosa\n",
        "import numpy as np\n",
        "import pandas as pd\n",
        "\n",
        "# 파일 저장된 음원 데이터 열어서 특징 분석\n",
        "def process_audio(file_path):\n",
        "    # Load audio file\n",
        "    y, sr = librosa.load(file_path, sr=None)\n",
        "\n",
        "    # Extract features 필요 특성 추출\n",
        "    mfccs = librosa.feature.mfcc(y=y, sr=sr, n_mfcc=13)\n",
        "    chroma_stft = librosa.feature.chroma_stft(y=y, sr=sr)\n",
        "    spectral_centroid = librosa.feature.spectral_centroid(y=y, sr=sr)\n",
        "    spectral_rolloff = librosa.feature.spectral_rolloff(y=y, sr=sr)\n",
        "    tempo, _ = librosa.beat.beat_track(y=y, sr=sr)\n",
        "\n",
        "    # 하모닉, 퍼커시브 이펙트 추출\n",
        "    y_harmonic, y_percussive = librosa.effects.hpss(y)\n",
        "\n",
        "    # 기본 주파수 추출\n",
        "    f0, voiced_flag, voiced_probs = librosa.pyin(y, fmin=librosa.note_to_hz('C2'), fmax=librosa.note_to_hz('C7'))\n",
        "    f0_filtered = np.where((f0 >= 80) & (f0 <= 300), f0, np.nan)\n",
        "\n",
        "    # Short-time Fourier transform\n",
        "    D = librosa.stft(y)\n",
        "    S, phase = librosa.magphase(D)\n",
        "    magnitude = np.abs(S)\n",
        "\n",
        "    # Spectral bandwidth\n",
        "    bandwidths = librosa.feature.spectral_bandwidth(S=S, sr=sr)\n",
        "    bandwidths_series = pd.Series(bandwidths.flatten())\n",
        "\n",
        "    # Statistical description of the bandwidth\n",
        "    description = bandwidths_series.describe()\n",
        "    data_skewness = skew(bandwidths_series)\n",
        "    data_kurtosis = kurtosis(bandwidths_series)\n",
        "\n",
        "    # 전부 딕셔너리화 하여 return\n",
        "    data = {\n",
        "        'file_path': file_path,\n",
        "        'mfcc_mean': np.mean(mfccs, axis=1).tolist(),\n",
        "        'mfcc_var': np.var(mfccs, axis=1).tolist(),\n",
        "        'chroma_mean': np.mean(chroma_stft, axis=1).tolist(),\n",
        "        'chroma_var': np.var(chroma_stft, axis=1).tolist(),\n",
        "        'spectral_centroid_mean': np.mean(spectral_centroid),\n",
        "        'spectral_centroid_var': np.var(spectral_centroid),\n",
        "        'spectral_rolloff_mean': np.mean(spectral_rolloff),\n",
        "        'spectral_rolloff_var': np.var(spectral_rolloff),\n",
        "        'tempo': tempo,\n",
        "        'f0_mean': np.nanmean(f0_filtered),\n",
        "        'f0_var': np.nanvar(f0_filtered),\n",
        "        'bandwidth_mean': description['mean'],\n",
        "        'bandwidth_std': description['std'],\n",
        "        'bandwidth_min': description['min'],\n",
        "        'bandwidth_25%': description['25%'],\n",
        "        'bandwidth_50%': description['50%'],\n",
        "        'bandwidth_75%': description['75%'],\n",
        "        'bandwidth_max': description['max'],\n",
        "        'bandwidth_skewness': data_skewness,\n",
        "        'bandwidth_kurtosis': data_kurtosis\n",
        "    }\n",
        "    return data"
      ],
      "metadata": {
        "id": "5zFjQKXoAfef"
      },
      "execution_count": null,
      "outputs": []
    },
    {
      "cell_type": "markdown",
      "source": [
        "# 보컬 특징 추출 전처리 함수"
      ],
      "metadata": {
        "id": "RQHb9JHdGGG8"
      }
    },
    {
      "cell_type": "code",
      "source": [
        "## 총 완료한 결과를 저장하기 위한 list 생성\n",
        "results = []\n",
        "## 완료한 개수를 파악하기 위해 변수\n",
        "count = 0\n",
        "\n",
        "## 에러가 발생하면 어떤 videoID에서 몇개정도 오류가 생기는지 체크 -> 이런건 노가다로 따로 수집하기 위해!\n",
        "error = []\n",
        "error_count = 0\n",
        "for video in data.loc[:, \"videoId\"]:\n",
        "    file_path = f'./beauty_promotion/vocal_file/{video}_vocals.wav'\n",
        "\n",
        "    if os.path.exists(file_path):\n",
        "        result = process_audio(file_path)\n",
        "        results.append(result)\n",
        "        print(count)\n",
        "        count+=1\n",
        "    else:\n",
        "        error.append(video)\n",
        "        error_count +=1\n",
        "        print(\"video file_path_error\",video)\n",
        "        pass\n",
        "\n",
        "# 실행\n",
        "voice = pd.DataFrame(results)"
      ],
      "metadata": {
        "id": "OqCllKLJdTwe"
      },
      "execution_count": null,
      "outputs": []
    },
    {
      "cell_type": "markdown",
      "source": [
        "# 받아온 데이터 합쳐서 최종 저장"
      ],
      "metadata": {
        "id": "Z16DNzyW-TK8"
      }
    },
    {
      "cell_type": "code",
      "source": [
        "import os\n",
        "### voice 데이터프레임의 file_path에서 videoId만 추출하기 위해서 key값으로 활용\n",
        "\n",
        "def extract_identifier(file_path):\n",
        "    file_name = os.path.basename(file_path).split('.')[0]\n",
        "    identifier = file_name.split('_vocals')[0]\n",
        "    return identifier\n",
        "\n",
        "# 새로운 열에 추출한 부분 저장\n",
        "voice['identifier'] = voice['file_path'].apply(extract_identifier)"
      ],
      "metadata": {
        "id": "0w9MyDxvHdTY"
      },
      "execution_count": null,
      "outputs": []
    },
    {
      "cell_type": "code",
      "source": [
        "# videoID로 두 데이터프레임을 합치기\n",
        "merged_data = pd.merge(data, voice, left_on='videoId', right_on='identifier', how='left')\n",
        "\n",
        "# 'identifier' 열은 필요 없으므로 제거\n",
        "merged_data.drop(columns=['identifier'], inplace=True)"
      ],
      "metadata": {
        "id": "321G7QWv-YFM"
      },
      "execution_count": null,
      "outputs": []
    }
  ]
}