{
 "cells": [
  {
   "cell_type": "markdown",
   "metadata": {},
   "source": [
    "> 청각 데이터 전처리 코드입니다."
   ]
  },
  {
   "cell_type": "markdown",
   "metadata": {},
   "source": [
    "> 참고 : Cell의 Output에 VideoId, ChannelId 등 개인정보가 포함된 경우 개인정보 보호를 위해 Output을 삭제하였습니다."
   ]
  },
  {
   "cell_type": "markdown",
   "metadata": {
    "id": "cTuRu-UtTFIv"
   },
   "source": [
    "# 데이터 불러오기"
   ]
  },
  {
   "cell_type": "code",
   "execution_count": null,
   "metadata": {
    "id": "ID2sOj-wab2h"
   },
   "outputs": [],
   "source": [
    "import pandas as pd\n",
    "\n",
    "df = pd.read_csv('sound_final.csv')"
   ]
  },
  {
   "cell_type": "markdown",
   "metadata": {
    "id": "T5Ep21iiTY4q"
   },
   "source": [
    "# 데이터 전처리\n",
    "### - 최소값으로 결측치 채우기"
   ]
  },
  {
   "cell_type": "code",
   "execution_count": null,
   "metadata": {
    "colab": {
     "base_uri": "https://localhost:8080/"
    },
    "id": "hZ7KycsndXBX",
    "outputId": "53741688-073a-44d6-8f50-f605f15593c0"
   },
   "outputs": [
    {
     "data": {
      "text/plain": [
       "(80.0609250563203, 0.0)"
      ]
     },
     "execution_count": 162,
     "metadata": {},
     "output_type": "execute_result"
    }
   ],
   "source": [
    "min1 = df['f0_mean'].min()\n",
    "min2 = df['f0_var'].min()\n",
    "min1, min2"
   ]
  },
  {
   "cell_type": "code",
   "execution_count": null,
   "metadata": {
    "id": "h9_kmnLYdoMl"
   },
   "outputs": [],
   "source": [
    "df['f0_mean'] = df['f0_mean'].fillna(min1)\n",
    "df['f0_var'] = df['f0_var'].fillna(min2)"
   ]
  },
  {
   "cell_type": "code",
   "execution_count": null,
   "metadata": {
    "colab": {
     "base_uri": "https://localhost:8080/"
    },
    "id": "oQKUpk7rjARY",
    "outputId": "abe401d1-5d6e-4935-9eab-5eab052d3bad"
   },
   "outputs": [
    {
     "data": {
      "text/plain": [
       "(0, 0)"
      ]
     },
     "execution_count": 164,
     "metadata": {},
     "output_type": "execute_result"
    }
   ],
   "source": [
    "df['f0_mean'].isna().sum(), df['f0_var'].isna().sum()"
   ]
  },
  {
   "cell_type": "code",
   "execution_count": null,
   "metadata": {
    "id": "zrEP7kuvkVYV"
   },
   "outputs": [],
   "source": [
    "temp = df.copy() # 데이터 임시저장"
   ]
  },
  {
   "cell_type": "markdown",
   "metadata": {
    "id": "-MSfPdb4Tzk9"
   },
   "source": [
    "### - 이상치, 상한, 하한 구하기\n",
    "** 이상치는 1.5 * iqr 방식 활용\n",
    "\n"
   ]
  },
  {
   "cell_type": "code",
   "execution_count": null,
   "metadata": {
    "colab": {
     "base_uri": "https://localhost:8080/"
    },
    "id": "m5Lzabwwf7ir",
    "outputId": "b85ec641-5a19-460a-f281-03e4ef9ce34f"
   },
   "outputs": [
    {
     "data": {
      "text/plain": [
       "(-740.3022416751146, 3501.9291625524866)"
      ]
     },
     "execution_count": 166,
     "metadata": {},
     "output_type": "execute_result"
    }
   ],
   "source": [
    "q1 = df['f0_var'].quantile(0.25)\n",
    "q3 = df['f0_var'].quantile(0.75)\n",
    "\n",
    "iqr = q3-q1\n",
    "\n",
    "1.5 * iqr\n",
    "\n",
    "lower = q1 - 1.5 * iqr\n",
    "upper = q3 + 1.5 * iqr\n",
    "\n",
    "lower, upper"
   ]
  },
  {
   "cell_type": "markdown",
   "metadata": {
    "id": "1D9D00-BUpxy"
   },
   "source": [
    "### 상한값보다 큰 이상치는 상한값으로 변경"
   ]
  },
  {
   "cell_type": "code",
   "execution_count": null,
   "metadata": {
    "id": "yMLXor7MjSjh"
   },
   "outputs": [],
   "source": [
    "df.loc[df['f0_var'] >= upper, 'f0_var'] = upper"
   ]
  },
  {
   "cell_type": "code",
   "execution_count": null,
   "metadata": {
    "colab": {
     "base_uri": "https://localhost:8080/"
    },
    "id": "wG8U0BNueM9u",
    "outputId": "a387d0cb-6289-4afe-983a-cdc82e9d2567"
   },
   "outputs": [
    {
     "data": {
      "text/plain": [
       "785     3501.929163\n",
       "280     3501.929163\n",
       "734     3501.929163\n",
       "2032    3501.929163\n",
       "69      3501.929163\n",
       "           ...     \n",
       "351        0.000000\n",
       "591        0.000000\n",
       "337        0.000000\n",
       "1589       0.000000\n",
       "1068       0.000000\n",
       "Name: f0_var, Length: 2184, dtype: float64"
      ]
     },
     "execution_count": 168,
     "metadata": {},
     "output_type": "execute_result"
    }
   ],
   "source": [
    "df['f0_var'].sort_values(ascending=False)"
   ]
  },
  {
   "cell_type": "markdown",
   "metadata": {
    "id": "HU3b3BbTU7l9"
   },
   "source": [
    "### MinMax 정규화"
   ]
  },
  {
   "cell_type": "code",
   "execution_count": null,
   "metadata": {
    "id": "djan_dvcjoMV"
   },
   "outputs": [],
   "source": [
    "from sklearn.preprocessing import MinMaxScaler\n",
    "\n",
    "\n",
    "cols = ['tempo','f0_mean','f0_var']\n",
    "scaler = MinMaxScaler()\n",
    "\n",
    "for i in cols:\n",
    "    df[[i]] = scaler.fit_transform(df[[i]])"
   ]
  },
  {
   "cell_type": "markdown",
   "metadata": {
    "id": "1xhhpTZAVD87"
   },
   "source": [
    "# 데이터 저장\n",
    "### - csv로 저장 후 확인"
   ]
  },
  {
   "cell_type": "code",
   "execution_count": null,
   "metadata": {
    "id": "ePhUD3xHj_ZS"
   },
   "outputs": [],
   "source": [
    "df.to_csv('final.csv', index = False)"
   ]
  },
  {
   "cell_type": "code",
   "execution_count": null,
   "metadata": {
    "colab": {
     "base_uri": "https://localhost:8080/",
     "height": 460
    },
    "id": "Jmh1f6kxlJQu",
    "outputId": "38a0e00c-932a-4252-eb3f-72da6387a78f"
   },
   "outputs": [],
   "source": [
    "pd.read_csv('final.csv')"
   ]
  }
 ],
 "metadata": {
  "colab": {
   "provenance": []
  },
  "kernelspec": {
   "display_name": "Python 3 (ipykernel)",
   "language": "python",
   "name": "python3"
  },
  "language_info": {
   "codemirror_mode": {
    "name": "ipython",
    "version": 3
   },
   "file_extension": ".py",
   "mimetype": "text/x-python",
   "name": "python",
   "nbconvert_exporter": "python",
   "pygments_lexer": "ipython3",
   "version": "3.11.7"
  }
 },
 "nbformat": 4,
 "nbformat_minor": 4
}
