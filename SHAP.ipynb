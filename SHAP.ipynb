{
  "nbformat": 4,
  "nbformat_minor": 0,
  "metadata": {
    "colab": {
      "provenance": []
    },
    "kernelspec": {
      "name": "python3",
      "display_name": "Python 3"
    },
    "language_info": {
      "name": "python"
    }
  },
  "cells": [
    {
      "cell_type": "code",
      "execution_count": null,
      "metadata": {
        "id": "ag_YQXTZEHDU"
      },
      "outputs": [],
      "source": [
        "import shap\n",
        "\n",
        "# 학습된 모델로부터 SHAP 값 계산\n",
        "explainer = shap.TreeExplainer(model)\n",
        "shap_values = explainer.shap_values(X_test)\n",
        "\n",
        "# SHAP 요약 플롯 생성\n",
        "shap.summary_plot(shap_values, X_test)"
      ]
    }
  ]
}